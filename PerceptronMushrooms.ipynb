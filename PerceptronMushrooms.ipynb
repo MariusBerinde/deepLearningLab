{
  "nbformat": 4,
  "nbformat_minor": 0,
  "metadata": {
    "colab": {
      "provenance": [],
      "toc_visible": true,
      "include_colab_link": true
    },
    "kernelspec": {
      "name": "python3",
      "display_name": "Python 3"
    },
    "language_info": {
      "name": "python"
    }
  },
  "cells": [
    {
      "cell_type": "markdown",
      "metadata": {
        "id": "view-in-github",
        "colab_type": "text"
      },
      "source": [
        "<a href=\"https://colab.research.google.com/github/MariusBerinde/deepLearningLab/blob/main/PerceptronMushrooms.ipynb\" target=\"_parent\"><img src=\"https://colab.research.google.com/assets/colab-badge.svg\" alt=\"Open In Colab\"/></a>"
      ]
    },
    {
      "cell_type": "code",
      "execution_count": 3,
      "metadata": {
        "id": "I96OaQEOQCkf",
        "colab": {
          "base_uri": "https://localhost:8080/"
        },
        "outputId": "d31f566b-e924-448a-96ef-01823258c183"
      },
      "outputs": [
        {
          "output_type": "stream",
          "name": "stdout",
          "text": [
            "--2024-10-10 08:22:33--  https://github.com/valentinagliozzi/NNCourse/raw/main/fung.mat\n",
            "Resolving github.com (github.com)... 140.82.116.4\n",
            "Connecting to github.com (github.com)|140.82.116.4|:443... connected.\n",
            "HTTP request sent, awaiting response... 302 Found\n",
            "Location: https://raw.githubusercontent.com/valentinagliozzi/NNCourse/main/fung.mat [following]\n",
            "--2024-10-10 08:22:33--  https://raw.githubusercontent.com/valentinagliozzi/NNCourse/main/fung.mat\n",
            "Resolving raw.githubusercontent.com (raw.githubusercontent.com)... 185.199.108.133, 185.199.109.133, 185.199.110.133, ...\n",
            "Connecting to raw.githubusercontent.com (raw.githubusercontent.com)|185.199.108.133|:443... connected.\n",
            "HTTP request sent, awaiting response... 200 OK\n",
            "Length: 1031936 (1008K) [application/octet-stream]\n",
            "Saving to: ‘fung.mat’\n",
            "\n",
            "fung.mat            100%[===================>]   1008K  --.-KB/s    in 0.03s   \n",
            "\n",
            "2024-10-10 08:22:34 (29.6 MB/s) - ‘fung.mat’ saved [1031936/1031936]\n",
            "\n"
          ]
        }
      ],
      "source": [
        "import numpy as np\n",
        "import matplotlib.pyplot as plt\n",
        "import scipy.io as sio\n",
        "from scipy.io import loadmat\n",
        "\n",
        "\n",
        "#get the dataset from github\n",
        "!wget \"https://github.com/valentinagliozzi/NNCourse/raw/main/fung.mat\" -O \"fung.mat\""
      ]
    },
    {
      "cell_type": "markdown",
      "source": [
        "# Percettrone"
      ],
      "metadata": {
        "id": "r5pptey4gMMF"
      }
    },
    {
      "cell_type": "code",
      "source": [
        "#Functions' definitions\n",
        "\n",
        "\n",
        "def percett(X, T, n):\n",
        "    \"\"\"\n",
        "    Perceptron implementation.\n",
        "    Classifies a set of patterns into two classes.\n",
        "    Inputs are real and outputs are bipolar, 1, -1.\n",
        "    There are m inputs plus the bias input, always set to -1.\n",
        "    There are m+1 weights connecting the inputs and the bias to the single output y.\n",
        "    The m+1 weights form a vector W, initially containing random values.\n",
        "    The activation function is the sign.\n",
        "    The input is a matrix X with m columns (one column per input value),\n",
        "    and t rows, where t is the number of patterns to learn.\n",
        "    The patterns are m-dimensional.\n",
        "    The input also includes the column vector T (target) with t rows,\n",
        "    containing the values to learn (+1 or -1, identifying the two classes).\n",
        "    n is the number of epochs set for learning.\n",
        "    Usage: [a, b] = percett(X, T, n)\n",
        "    a contains the history of weights and b the history of the number of learned patterns.\n",
        "    \"\"\"\n",
        "    t, m = X.shape\n",
        "    W = np.random.rand(m + 1)  # Random initialization of W.\n",
        "\n",
        "    X = np.hstack((X, -np.ones((t, 1))))  # Add bias input\n",
        "    storiapesi = np.zeros((m + 1, n))\n",
        "    storiappresi = np.zeros(n) # n epochs\n",
        "\n",
        "    for i in range(n):\n",
        "        storiapesi[:, i] = W\n",
        "        Y = sign_perc(np.dot(W, X.T))  # Y is a row vector containing the t outputs\n",
        "        storiappresi[i] = np.sum(T == Y) # number of correctly learned patterns for that iteration\n",
        "        for j in range(t):\n",
        "            if Y[j] != T[j]:\n",
        "                W = W + T[j] * X[j, :]\n",
        "\n",
        "    return storiapesi, storiappresi\n",
        "\n",
        "def sign_perc(x):\n",
        "    return 2 * (x > 0) - 1\n",
        "\n",
        "def usaperc(W, P):\n",
        "    \"\"\"\n",
        "    Uses the perceptron after the patterns have been learned.\n",
        "    Receives W and a matrix of patterns P.\n",
        "    Returns a column of responses, one for each pattern.\n",
        "    \"\"\"\n",
        "    t, m = P.shape  # t patterns, m dimensions\n",
        "\n",
        "\n",
        "    # Add a column of -1 to P for the bias term\n",
        "    P = np.hstack((P, -np.ones((t, 1))))\n",
        "\n",
        "    display(P.shape)\n",
        "\n",
        "    w = W.shape[0]\n",
        "    display(W.shape)\n",
        "\n",
        "    if w != m + 1:\n",
        "        raise ValueError(\"Incorrect dimensions!\")\n",
        "\n",
        "    # Calculate the result\n",
        "    ris = sign_perc(np.dot(W, P.T)).T\n",
        "    return ris\n"
      ],
      "metadata": {
        "id": "UpaV1v7gCGNk"
      },
      "execution_count": 4,
      "outputs": []
    },
    {
      "cell_type": "code",
      "source": [
        "# Load the data\n",
        "fung = sio.loadmat('fung.mat')['fun'].astype(np.float64)\n",
        "\n",
        "# Training pairs\n",
        "fun1i = fung[:4062, :127]\n",
        "fun1t = 2 * fung[:4062, -1] - 1\n",
        "\n",
        "\n",
        "# Test pairs\n",
        "fun2i = fung[4063:, :127]\n",
        "fun2t = 2 * fung[4063:, -1] - 1\n"
      ],
      "metadata": {
        "id": "5ncwIjJqer7S"
      },
      "execution_count": 5,
      "outputs": []
    },
    {
      "cell_type": "code",
      "source": [
        "# Set random seed\n",
        "np.random.seed(1992)\n",
        "\n",
        "# Learning\n",
        "u, v = percett(fun1i, fun1t, 50)\n"
      ],
      "metadata": {
        "id": "tYYQiqs9ezvt"
      },
      "execution_count": 6,
      "outputs": []
    },
    {
      "cell_type": "code",
      "source": [
        "# Plot the learning curve\n",
        "plt.plot(v)\n",
        "plt.title(\"Learning Curve\")\n",
        "plt.xlabel(\"Epochs\")\n",
        "plt.ylabel(\"Number of Correctly Classified Patterns\")\n",
        "plt.show()\n",
        "\n",
        "print(f\"Percentage correctly learned during Training: {(np.max(v) / 4062) * 100:.2f}%\")"
      ],
      "metadata": {
        "id": "Kax4SKoJClXH",
        "colab": {
          "base_uri": "https://localhost:8080/",
          "height": 490
        },
        "outputId": "d2d4a310-2cb9-4592-fd9a-66fb116deb8e"
      },
      "execution_count": 7,
      "outputs": [
        {
          "output_type": "display_data",
          "data": {
            "text/plain": [
              "<Figure size 640x480 with 1 Axes>"
            ],
            "image/png": "[encoded data removed]"
          },
          "metadata": {}
        },
        {
          "output_type": "stream",
          "name": "stdout",
          "text": [
            "Percentage correctly learned during Training: 100.00%\n"
          ]
        }
      ]
    },
    {
      "cell_type": "code",
      "source": [
        "# Find the index of the first maximum\n",
        "hh, h = np.max(v), np.argmax(v)\n",
        "\n",
        "# Optimal weight row\n",
        "W = u[:, h]\n",
        "\n",
        "# Test\n",
        "ris = usaperc(W, fun2i)\n",
        "z = np.sum(ris == fun2t)\n",
        "\n",
        "print(f\"At Test, correct results on UNSEEN fungi:{z}, i.e., {(z / 4061) * 100:.2f}%\")"
      ],
      "metadata": {
        "id": "HxpgjtFfCyeO",
        "colab": {
          "base_uri": "https://localhost:8080/",
          "height": 71
        },
        "outputId": "47799c21-c4ed-4747-bdef-c6be49eaa187"
      },
      "execution_count": 8,
      "outputs": [
        {
          "output_type": "display_data",
          "data": {
            "text/plain": [
              "(4061, 128)"
            ]
          },
          "metadata": {}
        },
        {
          "output_type": "display_data",
          "data": {
            "text/plain": [
              "(128,)"
            ]
          },
          "metadata": {}
        },
        {
          "output_type": "stream",
          "name": "stdout",
          "text": [
            "At Test, correct results on UNSEEN fungi:4051, i.e., 99.75%\n"
          ]
        }
      ]
    },
    {
      "cell_type": "markdown",
      "source": [
        "# Es 2\n",
        "mostra le prime 5 colonne delle prime 10 righe di fun1i"
      ],
      "metadata": {
        "id": "tw_woLGtgiwQ"
      }
    },
    {
      "cell_type": "code",
      "source": [
        "matrice = fun1i\n",
        "print(matrice)\n",
        "consegna =  matrice[:10,:5]\n",
        "print(\"Consegna = \",consegna.shape)"
      ],
      "metadata": {
        "id": "bjYIEtNIg94R",
        "outputId": "11ec8295-fe82-4456-ec3f-0f7bdcd1f4ea",
        "colab": {
          "base_uri": "https://localhost:8080/"
        }
      },
      "execution_count": 13,
      "outputs": [
        {
          "output_type": "stream",
          "name": "stdout",
          "text": [
            "[[0. 0. 1. ... 0. 1. 0.]\n",
            " [0. 0. 1. ... 1. 1. 0.]\n",
            " [0. 0. 1. ... 1. 1. 0.]\n",
            " ...\n",
            " [0. 0. 0. ... 0. 0. 1.]\n",
            " [0. 0. 1. ... 0. 1. 0.]\n",
            " [0. 0. 1. ... 0. 1. 0.]]\n",
            "Consegna =  (10, 5)\n"
          ]
        }
      ]
    },
    {
      "cell_type": "markdown",
      "source": [],
      "metadata": {
        "id": "58FAh5t3iHbq"
      }
    },
    {
      "cell_type": "markdown",
      "source": [
        "# Es 11\n",
        "cambia il numero di iterazioni e vedi come cambiano le percentuali\n",
        "\n",
        "- nr iterazioni 50\n",
        "- nr iterazioni 100\n",
        "- nr iterazioni 20"
      ],
      "metadata": {
        "id": "Tav3X3g7gzAz"
      }
    },
    {
      "cell_type": "code",
      "source": [
        "\n",
        "# Set random seed\n",
        "np.random.seed(1992)\n",
        "\n",
        "# Learning\n",
        "u, v = percett(fun1i, fun1t, 20)\n",
        "\n",
        "# Plot the learning curve\n",
        "plt.plot(v)\n",
        "plt.title(\"Learning Curve\")\n",
        "plt.xlabel(\"Epochs\")\n",
        "plt.ylabel(\"Number of Correctly Classified Patterns\")\n",
        "plt.show()\n",
        "\n",
        "print(f\"Percentage correctly learned during Training: {(np.max(v) / 4062) * 100:.2f}%\")\n"
      ],
      "metadata": {
        "id": "bLHGhqodinzY",
        "outputId": "390b5270-9a23-405b-a0ab-f4a554e0c9c5",
        "colab": {
          "base_uri": "https://localhost:8080/",
          "height": 490
        }
      },
      "execution_count": 16,
      "outputs": [
        {
          "output_type": "display_data",
          "data": {
            "text/plain": [
              "<Figure size 640x480 with 1 Axes>"
            ],
            "image/png": "[encoded data removed]"
          },
          "metadata": {}
        },
        {
          "output_type": "stream",
          "name": "stdout",
          "text": [
            "Percentage correctly learned during Training: 100.00%\n"
          ]
        }
      ]
    }
  ]
}