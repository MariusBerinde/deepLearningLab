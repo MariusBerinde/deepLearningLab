{
  "nbformat": 4,
  "nbformat_minor": 0,
  "metadata": {
    "colab": {
      "provenance": [],
      "authorship_tag": "ABX9TyMALF0YoctjOSLMSUOQh8mi",
      "include_colab_link": true
    },
    "kernelspec": {
      "name": "python3",
      "display_name": "Python 3"
    },
    "language_info": {
      "name": "python"
    }
  },
  "cells": [
    {
      "cell_type": "markdown",
      "metadata": {
        "id": "view-in-github",
        "colab_type": "text"
      },
      "source": [
        "<a href=\"https://colab.research.google.com/github/valentinagliozzi/NNCourse/blob/main/PercCancer.ipynb\" target=\"_parent\"><img src=\"https://colab.research.google.com/assets/colab-badge.svg\" alt=\"Open In Colab\"/></a>"
      ]
    },
    {
      "cell_type": "code",
      "execution_count": null,
      "metadata": {
        "id": "I96OaQEOQCkf"
      },
      "outputs": [],
      "source": [
        "import numpy as np\n",
        "import matplotlib.pyplot as plt\n",
        "import scipy.io as sio\n",
        "from scipy.io import loadmat\n",
        "\n",
        "#get the dataset from github\n",
        "!wget \"https://github.com/valentinagliozzi/NNCourse/raw/main/cancer1.mat\" -O \"cancer.mat\""
      ]
    },
    {
      "cell_type": "code",
      "source": [
        "#Functions' definitions\n",
        "\n",
        "\n",
        "def percett(X, T, n):\n",
        "    \"\"\"\n",
        "    Perceptron implementation.\n",
        "    Classifies a set of patterns into two classes.\n",
        "    Inputs are real and outputs are bipolar, 1, -1.\n",
        "    There are m inputs plus the bias input, always set to -1.\n",
        "    There are m+1 weights connecting the inputs and the bias to the single output y.\n",
        "    The m+1 weights form a vector W, initially containing random values.\n",
        "    The activation function is the sign.\n",
        "    The input is a matrix X with m columns (one column per input value),\n",
        "    and t rows, where t is the number of patterns to learn.\n",
        "    The patterns are m-dimensional.\n",
        "    The input also includes the column vector T (target) with t rows,\n",
        "    containing the values to learn (+1 or -1, identifying the two classes).\n",
        "    n is the number of epochs set for learning.\n",
        "    Usage: [a, b] = percett(X, T, n)\n",
        "    a contains the history of weights and b the history of the number of learned patterns.\n",
        "    \"\"\"\n",
        "    t, m = X.shape\n",
        "    W = np.random.rand(m + 1)  # Random initialization of W.\n",
        "\n",
        "    X = np.hstack((X, -np.ones((t, 1))))  # Add bias input\n",
        "    storiapesi = np.zeros((m + 1, n))\n",
        "    storiappresi = np.zeros(n) # n epochs\n",
        "\n",
        "    for i in range(n):\n",
        "        storiapesi[:, i] = W\n",
        "        Y = sign_perc(np.dot(W, X.T))  # Y is a row vector containing the t outputs\n",
        "        storiappresi[i] = np.sum(T == Y) # number of correctly learned patterns for that iteration\n",
        "        for j in range(t):\n",
        "            if Y[j] != T[j]:\n",
        "                W = W + T[j] * X[j, :]\n",
        "\n",
        "    return storiapesi, storiappresi\n",
        "\n",
        "def sign_perc(x):\n",
        "    return 2 * (x > 0) - 1\n",
        "\n",
        "def usaperc(W, P):\n",
        "    \"\"\"\n",
        "    Uses the perceptron after the patterns have been learned.\n",
        "    Receives W and a matrix of patterns P.\n",
        "    Returns a column of responses, one for each pattern.\n",
        "    \"\"\"\n",
        "    t, m = P.shape  # t patterns, m dimensions\n",
        "\n",
        "\n",
        "    # Add a column of -1 to P for the bias term\n",
        "    P = np.hstack((P, -np.ones((t, 1))))\n",
        "\n",
        "    display(P.shape)\n",
        "\n",
        "    w = W.shape[0]\n",
        "    display(W.shape)\n",
        "\n",
        "    if w != m + 1:\n",
        "        raise ValueError(\"Incorrect dimensions!\")\n",
        "\n",
        "    # Calculate the result\n",
        "    ris = sign_perc(np.dot(W, P.T)).T\n",
        "    return ris\n",
        "\n"
      ],
      "metadata": {
        "id": "UpaV1v7gCGNk"
      },
      "execution_count": 2,
      "outputs": []
    },
    {
      "cell_type": "code",
      "source": [
        "# Load the data\n",
        "cancer = sio.loadmat('cancer.mat')['cancer1'].astype(np.float64)\n",
        "\n",
        "\n",
        "\n",
        "# Training pairs\n",
        "cancer1i = cancer[1:350,1:9]\n",
        "cancer1t = 2 * cancer[1:350,10] - 1\n",
        "\n",
        "# Test pairs\n",
        "cancer2i = cancer[351:699,1:9]\n",
        "cancer2t = 2 * cancer[351:699, 10] - 1"
      ],
      "metadata": {
        "id": "5ncwIjJqer7S"
      },
      "execution_count": 3,
      "outputs": []
    },
    {
      "cell_type": "code",
      "source": [
        "# Set random seed\n",
        "np.random.seed(1992)\n",
        "\n",
        "# Learning\n",
        "u, v = percett(cancer1i, cancer1t, 50)\n"
      ],
      "metadata": {
        "id": "tYYQiqs9ezvt"
      },
      "execution_count": 7,
      "outputs": []
    },
    {
      "cell_type": "code",
      "source": [
        "# Plot the learning curve\n",
        "plt.plot(v)\n",
        "plt.title(\"Learning Curve\")\n",
        "plt.xlabel(\"Epochs\")\n",
        "plt.ylabel(\"Number of Correctly Classified Patterns over 350\")\n",
        "plt.show()\n",
        "\n",
        "print(f\"Percentage correctly learned during Training: {(np.max(v) / 350) * 100:.2f}%\")"
      ],
      "metadata": {
        "id": "Kax4SKoJClXH"
      },
      "execution_count": null,
      "outputs": []
    },
    {
      "cell_type": "code",
      "source": [
        "# Find the index of the first maximum\n",
        "hh, h = np.max(v), np.argmax(v)\n",
        "\n",
        "# Optimal weight row\n",
        "W = u[:, h]\n",
        "\n",
        "# Test\n",
        "ris = usaperc(W, cancer2i)\n",
        "z = np.sum(ris == cancer2t)\n",
        "\n",
        "print(f\"At Test, correct results on UNSEEN cancers:{z}, i.e., {(z / 349) * 100:.2f}%\")"
      ],
      "metadata": {
        "id": "HxpgjtFfCyeO"
      },
      "execution_count": null,
      "outputs": []
    }
  ]
}
